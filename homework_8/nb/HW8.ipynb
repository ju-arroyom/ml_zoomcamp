{
 "cells": [
  {
   "cell_type": "code",
   "execution_count": 1,
   "id": "c68c0daa-cec2-43ba-b76d-1d800e4fc748",
   "metadata": {
    "execution": {
     "iopub.execute_input": "2024-11-29T20:09:44.553316Z",
     "iopub.status.busy": "2024-11-29T20:09:44.553083Z",
     "iopub.status.idle": "2024-11-29T20:09:44.556463Z",
     "shell.execute_reply": "2024-11-29T20:09:44.555878Z",
     "shell.execute_reply.started": "2024-11-29T20:09:44.553272Z"
    }
   },
   "outputs": [],
   "source": [
    "#!pip install tensorflow==2.17.1"
   ]
  },
  {
   "cell_type": "code",
   "execution_count": 2,
   "id": "f4b7e47d-8367-4e67-9044-690c787f4f54",
   "metadata": {
    "execution": {
     "iopub.execute_input": "2024-11-29T20:09:44.585634Z",
     "iopub.status.busy": "2024-11-29T20:09:44.585264Z",
     "iopub.status.idle": "2024-11-29T20:09:47.050730Z",
     "shell.execute_reply": "2024-11-29T20:09:47.050156Z",
     "shell.execute_reply.started": "2024-11-29T20:09:44.585610Z"
    }
   },
   "outputs": [
    {
     "name": "stderr",
     "output_type": "stream",
     "text": [
      "2024-11-29 20:09:44.958353: I tensorflow/core/util/port.cc:153] oneDNN custom operations are on. You may see slightly different numerical results due to floating-point round-off errors from different computation orders. To turn them off, set the environment variable `TF_ENABLE_ONEDNN_OPTS=0`.\n",
      "2024-11-29 20:09:44.976616: E external/local_xla/xla/stream_executor/cuda/cuda_fft.cc:485] Unable to register cuFFT factory: Attempting to register factory for plugin cuFFT when one has already been registered\n",
      "2024-11-29 20:09:44.997330: E external/local_xla/xla/stream_executor/cuda/cuda_dnn.cc:8454] Unable to register cuDNN factory: Attempting to register factory for plugin cuDNN when one has already been registered\n",
      "2024-11-29 20:09:45.003385: E external/local_xla/xla/stream_executor/cuda/cuda_blas.cc:1452] Unable to register cuBLAS factory: Attempting to register factory for plugin cuBLAS when one has already been registered\n",
      "2024-11-29 20:09:45.018382: I tensorflow/core/platform/cpu_feature_guard.cc:210] This TensorFlow binary is optimized to use available CPU instructions in performance-critical operations.\n",
      "To enable the following instructions: AVX2 AVX512F AVX512_VNNI FMA, in other operations, rebuild TensorFlow with the appropriate compiler flags.\n",
      "2024-11-29 20:09:45.916981: W tensorflow/compiler/tf2tensorrt/utils/py_utils.cc:38] TF-TRT Warning: Could not find TensorRT\n"
     ]
    }
   ],
   "source": [
    "import numpy as np\n",
    "import tensorflow as tf\n",
    "\n",
    "SEED = 42\n",
    "np.random.seed(SEED)\n",
    "tf.random.set_seed(SEED)"
   ]
  },
  {
   "cell_type": "code",
   "execution_count": 3,
   "id": "181aee96-c8cf-4e4d-a0ae-7d49617f6b01",
   "metadata": {
    "execution": {
     "iopub.execute_input": "2024-11-29T20:09:47.054303Z",
     "iopub.status.busy": "2024-11-29T20:09:47.053889Z",
     "iopub.status.idle": "2024-11-29T20:09:47.060759Z",
     "shell.execute_reply": "2024-11-29T20:09:47.060245Z",
     "shell.execute_reply.started": "2024-11-29T20:09:47.054272Z"
    }
   },
   "outputs": [
    {
     "data": {
      "text/plain": [
       "'2.17.1'"
      ]
     },
     "execution_count": 3,
     "metadata": {},
     "output_type": "execute_result"
    }
   ],
   "source": [
    "tf.__version__"
   ]
  },
  {
   "cell_type": "code",
   "execution_count": 4,
   "id": "1ede018f-c95c-4af5-80cf-2ef38f935e4a",
   "metadata": {
    "execution": {
     "iopub.execute_input": "2024-11-29T20:09:47.062210Z",
     "iopub.status.busy": "2024-11-29T20:09:47.061947Z",
     "iopub.status.idle": "2024-11-29T20:09:47.072942Z",
     "shell.execute_reply": "2024-11-29T20:09:47.072453Z",
     "shell.execute_reply.started": "2024-11-29T20:09:47.062192Z"
    }
   },
   "outputs": [],
   "source": [
    "from tensorflow.keras.models import Sequential\n",
    "from tensorflow.keras.layers import Conv2D, MaxPooling2D, Flatten, Dense, Input\n",
    "from tensorflow.keras.optimizers import SGD\n",
    "from tensorflow.keras.losses import BinaryCrossentropy\n",
    "from tensorflow.keras.preprocessing.image import ImageDataGenerator"
   ]
  },
  {
   "cell_type": "markdown",
   "id": "629eb7c4-7407-42c7-bb36-c0bf7220913a",
   "metadata": {},
   "source": [
    "# Question 1 & 2:"
   ]
  },
  {
   "cell_type": "code",
   "execution_count": 5,
   "id": "5e9f26c9-b33c-4e0e-8f0d-449a11b3b4c3",
   "metadata": {
    "execution": {
     "iopub.execute_input": "2024-11-29T20:09:47.073876Z",
     "iopub.status.busy": "2024-11-29T20:09:47.073622Z",
     "iopub.status.idle": "2024-11-29T20:09:47.077971Z",
     "shell.execute_reply": "2024-11-29T20:09:47.077399Z",
     "shell.execute_reply.started": "2024-11-29T20:09:47.073857Z"
    }
   },
   "outputs": [],
   "source": [
    "# Function to define model by adding new dense layer and dropout\n",
    "def make_model():\n",
    "    model = Sequential([Input(shape=(200, 200, 3)),\n",
    "                        Conv2D(filters=32, kernel_size=(3, 3), activation='relu'),\n",
    "                        MaxPooling2D(pool_size=(2, 2)),\n",
    "                        Flatten(),\n",
    "                        Dense(64, activation=\"relu\"),\n",
    "                        Dense(1, activation=\"sigmoid\")]\n",
    "                      )\n",
    "    optimizer = SGD(learning_rate=0.002, momentum=0.8)\n",
    "    model.compile(optimizer=optimizer,\n",
    "                  loss='binary_crossentropy',\n",
    "                  metrics=['accuracy'])\n",
    "    \n",
    "    return model"
   ]
  },
  {
   "cell_type": "code",
   "execution_count": 6,
   "id": "d57e9dfb-ebcb-48d0-b25f-d90fbe3c0196",
   "metadata": {
    "execution": {
     "iopub.execute_input": "2024-11-29T20:09:47.078852Z",
     "iopub.status.busy": "2024-11-29T20:09:47.078596Z",
     "iopub.status.idle": "2024-11-29T20:09:48.321993Z",
     "shell.execute_reply": "2024-11-29T20:09:48.321230Z",
     "shell.execute_reply.started": "2024-11-29T20:09:47.078834Z"
    }
   },
   "outputs": [
    {
     "name": "stderr",
     "output_type": "stream",
     "text": [
      "WARNING: All log messages before absl::InitializeLog() is called are written to STDERR\n",
      "I0000 00:00:1732910987.142114   14854 cuda_executor.cc:1015] successful NUMA node read from SysFS had negative value (-1), but there must be at least one NUMA node, so returning NUMA node zero. See more at https://github.com/torvalds/linux/blob/v6.0/Documentation/ABI/testing/sysfs-bus-pci#L344-L355\n",
      "I0000 00:00:1732910987.191586   14854 cuda_executor.cc:1015] successful NUMA node read from SysFS had negative value (-1), but there must be at least one NUMA node, so returning NUMA node zero. See more at https://github.com/torvalds/linux/blob/v6.0/Documentation/ABI/testing/sysfs-bus-pci#L344-L355\n",
      "I0000 00:00:1732910987.191845   14854 cuda_executor.cc:1015] successful NUMA node read from SysFS had negative value (-1), but there must be at least one NUMA node, so returning NUMA node zero. See more at https://github.com/torvalds/linux/blob/v6.0/Documentation/ABI/testing/sysfs-bus-pci#L344-L355\n",
      "I0000 00:00:1732910987.192936   14854 cuda_executor.cc:1015] successful NUMA node read from SysFS had negative value (-1), but there must be at least one NUMA node, so returning NUMA node zero. See more at https://github.com/torvalds/linux/blob/v6.0/Documentation/ABI/testing/sysfs-bus-pci#L344-L355\n",
      "I0000 00:00:1732910987.193185   14854 cuda_executor.cc:1015] successful NUMA node read from SysFS had negative value (-1), but there must be at least one NUMA node, so returning NUMA node zero. See more at https://github.com/torvalds/linux/blob/v6.0/Documentation/ABI/testing/sysfs-bus-pci#L344-L355\n",
      "I0000 00:00:1732910987.193333   14854 cuda_executor.cc:1015] successful NUMA node read from SysFS had negative value (-1), but there must be at least one NUMA node, so returning NUMA node zero. See more at https://github.com/torvalds/linux/blob/v6.0/Documentation/ABI/testing/sysfs-bus-pci#L344-L355\n",
      "I0000 00:00:1732910987.280702   14854 cuda_executor.cc:1015] successful NUMA node read from SysFS had negative value (-1), but there must be at least one NUMA node, so returning NUMA node zero. See more at https://github.com/torvalds/linux/blob/v6.0/Documentation/ABI/testing/sysfs-bus-pci#L344-L355\n",
      "I0000 00:00:1732910987.280918   14854 cuda_executor.cc:1015] successful NUMA node read from SysFS had negative value (-1), but there must be at least one NUMA node, so returning NUMA node zero. See more at https://github.com/torvalds/linux/blob/v6.0/Documentation/ABI/testing/sysfs-bus-pci#L344-L355\n",
      "I0000 00:00:1732910987.281066   14854 cuda_executor.cc:1015] successful NUMA node read from SysFS had negative value (-1), but there must be at least one NUMA node, so returning NUMA node zero. See more at https://github.com/torvalds/linux/blob/v6.0/Documentation/ABI/testing/sysfs-bus-pci#L344-L355\n",
      "2024-11-29 20:09:47.281280: I tensorflow/core/common_runtime/gpu/gpu_device.cc:2021] Created device /job:localhost/replica:0/task:0/device:GPU:0 with 13942 MB memory:  -> device: 0, name: Tesla T4, pci bus id: 0000:00:1e.0, compute capability: 7.5\n"
     ]
    }
   ],
   "source": [
    "model = make_model()"
   ]
  },
  {
   "cell_type": "code",
   "execution_count": 7,
   "id": "f57393cf-2c49-4306-81ad-f6536221ab70",
   "metadata": {
    "execution": {
     "iopub.execute_input": "2024-11-29T20:09:48.323259Z",
     "iopub.status.busy": "2024-11-29T20:09:48.322717Z",
     "iopub.status.idle": "2024-11-29T20:09:48.337343Z",
     "shell.execute_reply": "2024-11-29T20:09:48.336817Z",
     "shell.execute_reply.started": "2024-11-29T20:09:48.323236Z"
    }
   },
   "outputs": [
    {
     "data": {
      "text/html": [
       "<pre style=\"white-space:pre;overflow-x:auto;line-height:normal;font-family:Menlo,'DejaVu Sans Mono',consolas,'Courier New',monospace\"><span style=\"font-weight: bold\">Model: \"sequential\"</span>\n",
       "</pre>\n"
      ],
      "text/plain": [
       "\u001b[1mModel: \"sequential\"\u001b[0m\n"
      ]
     },
     "metadata": {},
     "output_type": "display_data"
    },
    {
     "data": {
      "text/html": [
       "<pre style=\"white-space:pre;overflow-x:auto;line-height:normal;font-family:Menlo,'DejaVu Sans Mono',consolas,'Courier New',monospace\">┏━━━━━━━━━━━━━━━━━━━━━━━━━━━━━━━━━┳━━━━━━━━━━━━━━━━━━━━━━━━┳━━━━━━━━━━━━━━━┓\n",
       "┃<span style=\"font-weight: bold\"> Layer (type)                    </span>┃<span style=\"font-weight: bold\"> Output Shape           </span>┃<span style=\"font-weight: bold\">       Param # </span>┃\n",
       "┡━━━━━━━━━━━━━━━━━━━━━━━━━━━━━━━━━╇━━━━━━━━━━━━━━━━━━━━━━━━╇━━━━━━━━━━━━━━━┩\n",
       "│ conv2d (<span style=\"color: #0087ff; text-decoration-color: #0087ff\">Conv2D</span>)                 │ (<span style=\"color: #00d7ff; text-decoration-color: #00d7ff\">None</span>, <span style=\"color: #00af00; text-decoration-color: #00af00\">198</span>, <span style=\"color: #00af00; text-decoration-color: #00af00\">198</span>, <span style=\"color: #00af00; text-decoration-color: #00af00\">32</span>)   │           <span style=\"color: #00af00; text-decoration-color: #00af00\">896</span> │\n",
       "├─────────────────────────────────┼────────────────────────┼───────────────┤\n",
       "│ max_pooling2d (<span style=\"color: #0087ff; text-decoration-color: #0087ff\">MaxPooling2D</span>)    │ (<span style=\"color: #00d7ff; text-decoration-color: #00d7ff\">None</span>, <span style=\"color: #00af00; text-decoration-color: #00af00\">99</span>, <span style=\"color: #00af00; text-decoration-color: #00af00\">99</span>, <span style=\"color: #00af00; text-decoration-color: #00af00\">32</span>)     │             <span style=\"color: #00af00; text-decoration-color: #00af00\">0</span> │\n",
       "├─────────────────────────────────┼────────────────────────┼───────────────┤\n",
       "│ flatten (<span style=\"color: #0087ff; text-decoration-color: #0087ff\">Flatten</span>)               │ (<span style=\"color: #00d7ff; text-decoration-color: #00d7ff\">None</span>, <span style=\"color: #00af00; text-decoration-color: #00af00\">313632</span>)         │             <span style=\"color: #00af00; text-decoration-color: #00af00\">0</span> │\n",
       "├─────────────────────────────────┼────────────────────────┼───────────────┤\n",
       "│ dense (<span style=\"color: #0087ff; text-decoration-color: #0087ff\">Dense</span>)                   │ (<span style=\"color: #00d7ff; text-decoration-color: #00d7ff\">None</span>, <span style=\"color: #00af00; text-decoration-color: #00af00\">64</span>)             │    <span style=\"color: #00af00; text-decoration-color: #00af00\">20,072,512</span> │\n",
       "├─────────────────────────────────┼────────────────────────┼───────────────┤\n",
       "│ dense_1 (<span style=\"color: #0087ff; text-decoration-color: #0087ff\">Dense</span>)                 │ (<span style=\"color: #00d7ff; text-decoration-color: #00d7ff\">None</span>, <span style=\"color: #00af00; text-decoration-color: #00af00\">1</span>)              │            <span style=\"color: #00af00; text-decoration-color: #00af00\">65</span> │\n",
       "└─────────────────────────────────┴────────────────────────┴───────────────┘\n",
       "</pre>\n"
      ],
      "text/plain": [
       "┏━━━━━━━━━━━━━━━━━━━━━━━━━━━━━━━━━┳━━━━━━━━━━━━━━━━━━━━━━━━┳━━━━━━━━━━━━━━━┓\n",
       "┃\u001b[1m \u001b[0m\u001b[1mLayer (type)                   \u001b[0m\u001b[1m \u001b[0m┃\u001b[1m \u001b[0m\u001b[1mOutput Shape          \u001b[0m\u001b[1m \u001b[0m┃\u001b[1m \u001b[0m\u001b[1m      Param #\u001b[0m\u001b[1m \u001b[0m┃\n",
       "┡━━━━━━━━━━━━━━━━━━━━━━━━━━━━━━━━━╇━━━━━━━━━━━━━━━━━━━━━━━━╇━━━━━━━━━━━━━━━┩\n",
       "│ conv2d (\u001b[38;5;33mConv2D\u001b[0m)                 │ (\u001b[38;5;45mNone\u001b[0m, \u001b[38;5;34m198\u001b[0m, \u001b[38;5;34m198\u001b[0m, \u001b[38;5;34m32\u001b[0m)   │           \u001b[38;5;34m896\u001b[0m │\n",
       "├─────────────────────────────────┼────────────────────────┼───────────────┤\n",
       "│ max_pooling2d (\u001b[38;5;33mMaxPooling2D\u001b[0m)    │ (\u001b[38;5;45mNone\u001b[0m, \u001b[38;5;34m99\u001b[0m, \u001b[38;5;34m99\u001b[0m, \u001b[38;5;34m32\u001b[0m)     │             \u001b[38;5;34m0\u001b[0m │\n",
       "├─────────────────────────────────┼────────────────────────┼───────────────┤\n",
       "│ flatten (\u001b[38;5;33mFlatten\u001b[0m)               │ (\u001b[38;5;45mNone\u001b[0m, \u001b[38;5;34m313632\u001b[0m)         │             \u001b[38;5;34m0\u001b[0m │\n",
       "├─────────────────────────────────┼────────────────────────┼───────────────┤\n",
       "│ dense (\u001b[38;5;33mDense\u001b[0m)                   │ (\u001b[38;5;45mNone\u001b[0m, \u001b[38;5;34m64\u001b[0m)             │    \u001b[38;5;34m20,072,512\u001b[0m │\n",
       "├─────────────────────────────────┼────────────────────────┼───────────────┤\n",
       "│ dense_1 (\u001b[38;5;33mDense\u001b[0m)                 │ (\u001b[38;5;45mNone\u001b[0m, \u001b[38;5;34m1\u001b[0m)              │            \u001b[38;5;34m65\u001b[0m │\n",
       "└─────────────────────────────────┴────────────────────────┴───────────────┘\n"
      ]
     },
     "metadata": {},
     "output_type": "display_data"
    },
    {
     "data": {
      "text/html": [
       "<pre style=\"white-space:pre;overflow-x:auto;line-height:normal;font-family:Menlo,'DejaVu Sans Mono',consolas,'Courier New',monospace\"><span style=\"font-weight: bold\"> Total params: </span><span style=\"color: #00af00; text-decoration-color: #00af00\">20,073,473</span> (76.57 MB)\n",
       "</pre>\n"
      ],
      "text/plain": [
       "\u001b[1m Total params: \u001b[0m\u001b[38;5;34m20,073,473\u001b[0m (76.57 MB)\n"
      ]
     },
     "metadata": {},
     "output_type": "display_data"
    },
    {
     "data": {
      "text/html": [
       "<pre style=\"white-space:pre;overflow-x:auto;line-height:normal;font-family:Menlo,'DejaVu Sans Mono',consolas,'Courier New',monospace\"><span style=\"font-weight: bold\"> Trainable params: </span><span style=\"color: #00af00; text-decoration-color: #00af00\">20,073,473</span> (76.57 MB)\n",
       "</pre>\n"
      ],
      "text/plain": [
       "\u001b[1m Trainable params: \u001b[0m\u001b[38;5;34m20,073,473\u001b[0m (76.57 MB)\n"
      ]
     },
     "metadata": {},
     "output_type": "display_data"
    },
    {
     "data": {
      "text/html": [
       "<pre style=\"white-space:pre;overflow-x:auto;line-height:normal;font-family:Menlo,'DejaVu Sans Mono',consolas,'Courier New',monospace\"><span style=\"font-weight: bold\"> Non-trainable params: </span><span style=\"color: #00af00; text-decoration-color: #00af00\">0</span> (0.00 B)\n",
       "</pre>\n"
      ],
      "text/plain": [
       "\u001b[1m Non-trainable params: \u001b[0m\u001b[38;5;34m0\u001b[0m (0.00 B)\n"
      ]
     },
     "metadata": {},
     "output_type": "display_data"
    }
   ],
   "source": [
    "model.summary()\n"
   ]
  },
  {
   "cell_type": "code",
   "execution_count": 8,
   "id": "ee06c10b-3160-47d4-9ad8-f333b271a349",
   "metadata": {
    "execution": {
     "iopub.execute_input": "2024-11-29T20:09:48.338454Z",
     "iopub.status.busy": "2024-11-29T20:09:48.338062Z",
     "iopub.status.idle": "2024-11-29T20:09:48.368680Z",
     "shell.execute_reply": "2024-11-29T20:09:48.368119Z",
     "shell.execute_reply.started": "2024-11-29T20:09:48.338425Z"
    }
   },
   "outputs": [
    {
     "name": "stdout",
     "output_type": "stream",
     "text": [
      "Found 800 images belonging to 2 classes.\n",
      "Found 201 images belonging to 2 classes.\n"
     ]
    }
   ],
   "source": [
    "# Build image generator for training (takes preprocessing input function)\n",
    "train_gen = ImageDataGenerator(rescale=1./255)\n",
    "\n",
    "# Load in train dataset into train generator\n",
    "train_ds = train_gen.flow_from_directory(directory='./data/train/', # Train images directory\n",
    "                                         target_size=(200, 200), # resize images to train faster\n",
    "                                         class_mode=\"binary\",\n",
    "                                         batch_size=20) # 20 images per batch\n",
    "\n",
    "# Create image generator for validation\n",
    "test_gen = ImageDataGenerator(rescale=1./255)\n",
    "\n",
    "# Load in image for validation\n",
    "test_ds = test_gen.flow_from_directory(directory='./data/test/', # Validation image directory\n",
    "                                     target_size=(200, 200),\n",
    "                                     class_mode=\"binary\",\n",
    "                                     batch_size=20) "
   ]
  },
  {
   "cell_type": "code",
   "execution_count": 9,
   "id": "3b4da5ed-c010-4a93-9fa8-c782e3a54c4c",
   "metadata": {
    "execution": {
     "iopub.execute_input": "2024-11-29T20:09:48.369854Z",
     "iopub.status.busy": "2024-11-29T20:09:48.369445Z",
     "iopub.status.idle": "2024-11-29T20:10:45.535280Z",
     "shell.execute_reply": "2024-11-29T20:10:45.534662Z",
     "shell.execute_reply.started": "2024-11-29T20:09:48.369823Z"
    }
   },
   "outputs": [
    {
     "name": "stderr",
     "output_type": "stream",
     "text": [
      "/opt/saturncloud/envs/saturn/lib/python3.12/site-packages/keras/src/trainers/data_adapters/py_dataset_adapter.py:121: UserWarning: Your `PyDataset` class should call `super().__init__(**kwargs)` in its constructor. `**kwargs` can include `workers`, `use_multiprocessing`, `max_queue_size`. Do not pass these arguments to `fit()`, as they will be ignored.\n",
      "  self._warn_if_super_not_called()\n"
     ]
    },
    {
     "name": "stdout",
     "output_type": "stream",
     "text": [
      "Epoch 1/10\n"
     ]
    },
    {
     "name": "stderr",
     "output_type": "stream",
     "text": [
      "WARNING: All log messages before absl::InitializeLog() is called are written to STDERR\n",
      "I0000 00:00:1732910989.356597   14899 service.cc:146] XLA service 0x7fb4b00035c0 initialized for platform CUDA (this does not guarantee that XLA will be used). Devices:\n",
      "I0000 00:00:1732910989.356638   14899 service.cc:154]   StreamExecutor device (0): Tesla T4, Compute Capability 7.5\n",
      "2024-11-29 20:09:49.382089: I tensorflow/compiler/mlir/tensorflow/utils/dump_mlir_util.cc:268] disabling MLIR crash reproducer, set env var `MLIR_CRASH_REPRODUCER_DIRECTORY` to enable.\n",
      "2024-11-29 20:09:49.484341: I external/local_xla/xla/stream_executor/cuda/cuda_dnn.cc:531] Loaded cuDNN version 8907\n"
     ]
    },
    {
     "name": "stdout",
     "output_type": "stream",
     "text": [
      "\u001b[1m 3/40\u001b[0m \u001b[32m━\u001b[0m\u001b[37m━━━━━━━━━━━━━━━━━━━\u001b[0m \u001b[1m2s\u001b[0m 69ms/step - accuracy: 0.3583 - loss: 1.1448"
     ]
    },
    {
     "name": "stderr",
     "output_type": "stream",
     "text": [
      "I0000 00:00:1732910990.819379   14899 device_compiler.h:188] Compiled cluster using XLA!  This line is logged at most once for the lifetime of the process.\n"
     ]
    },
    {
     "name": "stdout",
     "output_type": "stream",
     "text": [
      "\u001b[1m40/40\u001b[0m \u001b[32m━━━━━━━━━━━━━━━━━━━━\u001b[0m\u001b[37m\u001b[0m \u001b[1m9s\u001b[0m 166ms/step - accuracy: 0.4866 - loss: 0.8238 - val_accuracy: 0.5323 - val_loss: 0.6806\n",
      "Epoch 2/10\n",
      "\u001b[1m40/40\u001b[0m \u001b[32m━━━━━━━━━━━━━━━━━━━━\u001b[0m\u001b[37m\u001b[0m \u001b[1m5s\u001b[0m 136ms/step - accuracy: 0.5922 - loss: 0.6727 - val_accuracy: 0.6219 - val_loss: 0.6630\n",
      "Epoch 3/10\n",
      "\u001b[1m40/40\u001b[0m \u001b[32m━━━━━━━━━━━━━━━━━━━━\u001b[0m\u001b[37m\u001b[0m \u001b[1m5s\u001b[0m 131ms/step - accuracy: 0.6241 - loss: 0.6482 - val_accuracy: 0.6318 - val_loss: 0.6341\n",
      "Epoch 4/10\n",
      "\u001b[1m40/40\u001b[0m \u001b[32m━━━━━━━━━━━━━━━━━━━━\u001b[0m\u001b[37m\u001b[0m \u001b[1m5s\u001b[0m 135ms/step - accuracy: 0.6923 - loss: 0.5944 - val_accuracy: 0.5721 - val_loss: 0.6847\n",
      "Epoch 5/10\n",
      "\u001b[1m40/40\u001b[0m \u001b[32m━━━━━━━━━━━━━━━━━━━━\u001b[0m\u001b[37m\u001b[0m \u001b[1m5s\u001b[0m 130ms/step - accuracy: 0.6663 - loss: 0.5947 - val_accuracy: 0.6368 - val_loss: 0.6246\n",
      "Epoch 6/10\n",
      "\u001b[1m40/40\u001b[0m \u001b[32m━━━━━━━━━━━━━━━━━━━━\u001b[0m\u001b[37m\u001b[0m \u001b[1m5s\u001b[0m 132ms/step - accuracy: 0.6671 - loss: 0.5910 - val_accuracy: 0.6418 - val_loss: 0.6204\n",
      "Epoch 7/10\n",
      "\u001b[1m40/40\u001b[0m \u001b[32m━━━━━━━━━━━━━━━━━━━━\u001b[0m\u001b[37m\u001b[0m \u001b[1m5s\u001b[0m 132ms/step - accuracy: 0.7184 - loss: 0.5517 - val_accuracy: 0.6020 - val_loss: 0.6354\n",
      "Epoch 8/10\n",
      "\u001b[1m40/40\u001b[0m \u001b[32m━━━━━━━━━━━━━━━━━━━━\u001b[0m\u001b[37m\u001b[0m \u001b[1m5s\u001b[0m 129ms/step - accuracy: 0.7346 - loss: 0.5521 - val_accuracy: 0.6169 - val_loss: 0.6743\n",
      "Epoch 9/10\n",
      "\u001b[1m40/40\u001b[0m \u001b[32m━━━━━━━━━━━━━━━━━━━━\u001b[0m\u001b[37m\u001b[0m \u001b[1m5s\u001b[0m 134ms/step - accuracy: 0.7089 - loss: 0.5466 - val_accuracy: 0.6517 - val_loss: 0.6242\n",
      "Epoch 10/10\n",
      "\u001b[1m40/40\u001b[0m \u001b[32m━━━━━━━━━━━━━━━━━━━━\u001b[0m\u001b[37m\u001b[0m \u001b[1m5s\u001b[0m 138ms/step - accuracy: 0.7260 - loss: 0.5170 - val_accuracy: 0.6269 - val_loss: 0.6513\n"
     ]
    }
   ],
   "source": [
    "history = model.fit(\n",
    "    train_ds,\n",
    "    epochs=10,\n",
    "    validation_data=test_ds\n",
    ")"
   ]
  },
  {
   "cell_type": "markdown",
   "id": "fe5923f0-a508-4c45-b6e2-836d3603c76b",
   "metadata": {},
   "source": [
    "# Question3"
   ]
  },
  {
   "cell_type": "code",
   "execution_count": 10,
   "id": "5a99cbf5-a69e-41ce-9988-06c463e244ff",
   "metadata": {
    "execution": {
     "iopub.execute_input": "2024-11-29T20:10:45.537992Z",
     "iopub.status.busy": "2024-11-29T20:10:45.537697Z",
     "iopub.status.idle": "2024-11-29T20:10:45.543031Z",
     "shell.execute_reply": "2024-11-29T20:10:45.542441Z",
     "shell.execute_reply.started": "2024-11-29T20:10:45.537971Z"
    }
   },
   "outputs": [
    {
     "data": {
      "text/plain": [
       "0.674"
      ]
     },
     "execution_count": 10,
     "metadata": {},
     "output_type": "execute_result"
    }
   ],
   "source": [
    "np.median(history.history['accuracy']).round(3)"
   ]
  },
  {
   "cell_type": "markdown",
   "id": "11537b21-d06c-460c-986a-1098bf67d6df",
   "metadata": {},
   "source": [
    "# Question 4"
   ]
  },
  {
   "cell_type": "code",
   "execution_count": 11,
   "id": "73d02919-ec33-41fd-aea9-5171d4b2909f",
   "metadata": {
    "execution": {
     "iopub.execute_input": "2024-11-29T20:10:45.544009Z",
     "iopub.status.busy": "2024-11-29T20:10:45.543713Z",
     "iopub.status.idle": "2024-11-29T20:10:45.548658Z",
     "shell.execute_reply": "2024-11-29T20:10:45.548151Z",
     "shell.execute_reply.started": "2024-11-29T20:10:45.543990Z"
    }
   },
   "outputs": [
    {
     "data": {
      "text/plain": [
       "0.062"
      ]
     },
     "execution_count": 11,
     "metadata": {},
     "output_type": "execute_result"
    }
   ],
   "source": [
    "np.std(history.history['loss']).round(3)"
   ]
  },
  {
   "cell_type": "markdown",
   "id": "3566845a-f9e2-415b-9c7b-84d9118318d9",
   "metadata": {},
   "source": [
    "# Question 5"
   ]
  },
  {
   "cell_type": "code",
   "execution_count": 12,
   "id": "a803e9b8-04df-45c4-830c-54b9fb2abfaa",
   "metadata": {
    "execution": {
     "iopub.execute_input": "2024-11-29T20:10:45.549629Z",
     "iopub.status.busy": "2024-11-29T20:10:45.549296Z",
     "iopub.status.idle": "2024-11-29T20:10:45.581055Z",
     "shell.execute_reply": "2024-11-29T20:10:45.580566Z",
     "shell.execute_reply.started": "2024-11-29T20:10:45.549610Z"
    }
   },
   "outputs": [
    {
     "name": "stdout",
     "output_type": "stream",
     "text": [
      "Found 800 images belonging to 2 classes.\n",
      "Found 201 images belonging to 2 classes.\n"
     ]
    }
   ],
   "source": [
    "# Build image generator for training (takes preprocessing input function)\n",
    "train_gen = ImageDataGenerator(rescale=1./255,\n",
    "                               rotation_range=50,\n",
    "                               width_shift_range=0.1,\n",
    "                               height_shift_range=0.1,\n",
    "                               zoom_range=0.1,\n",
    "                               horizontal_flip=True,\n",
    "                               fill_mode='nearest')\n",
    "\n",
    "# Load in train dataset into train generator\n",
    "train_ds = train_gen.flow_from_directory(directory='./data/train/', # Train images directory\n",
    "                                         target_size=(200, 200), # resize images to train faster\n",
    "                                         class_mode=\"binary\",\n",
    "                                         batch_size=20) # 20 images per batch\n",
    "\n",
    "# Create image generator for validation\n",
    "test_gen = ImageDataGenerator(rescale=1./255)\n",
    "\n",
    "# Load in image for validation\n",
    "test_ds = test_gen.flow_from_directory(directory='./data/test/', # Validation image directory\n",
    "                                     target_size=(200, 200),\n",
    "                                     class_mode=\"binary\",\n",
    "                                     batch_size=20) "
   ]
  },
  {
   "cell_type": "code",
   "execution_count": 13,
   "id": "82774ac9-10b4-4d86-a8bb-c2160b967ab2",
   "metadata": {
    "execution": {
     "iopub.execute_input": "2024-11-29T20:10:45.582367Z",
     "iopub.status.busy": "2024-11-29T20:10:45.581810Z",
     "iopub.status.idle": "2024-11-29T20:12:37.694106Z",
     "shell.execute_reply": "2024-11-29T20:12:37.693549Z",
     "shell.execute_reply.started": "2024-11-29T20:10:45.582344Z"
    }
   },
   "outputs": [
    {
     "name": "stdout",
     "output_type": "stream",
     "text": [
      "Epoch 1/10\n",
      "\u001b[1m40/40\u001b[0m \u001b[32m━━━━━━━━━━━━━━━━━━━━\u001b[0m\u001b[37m\u001b[0m \u001b[1m0s\u001b[0m 254ms/step - accuracy: 0.6413 - loss: 0.6441"
     ]
    },
    {
     "name": "stderr",
     "output_type": "stream",
     "text": [
      "/opt/saturncloud/envs/saturn/lib/python3.12/site-packages/keras/src/trainers/data_adapters/py_dataset_adapter.py:121: UserWarning: Your `PyDataset` class should call `super().__init__(**kwargs)` in its constructor. `**kwargs` can include `workers`, `use_multiprocessing`, `max_queue_size`. Do not pass these arguments to `fit()`, as they will be ignored.\n",
      "  self._warn_if_super_not_called()\n"
     ]
    },
    {
     "name": "stdout",
     "output_type": "stream",
     "text": [
      "\u001b[1m40/40\u001b[0m \u001b[32m━━━━━━━━━━━━━━━━━━━━\u001b[0m\u001b[37m\u001b[0m \u001b[1m11s\u001b[0m 283ms/step - accuracy: 0.6417 - loss: 0.6437 - val_accuracy: 0.6567 - val_loss: 0.5939\n",
      "Epoch 2/10\n",
      "\u001b[1m40/40\u001b[0m \u001b[32m━━━━━━━━━━━━━━━━━━━━\u001b[0m\u001b[37m\u001b[0m \u001b[1m11s\u001b[0m 276ms/step - accuracy: 0.6513 - loss: 0.6177 - val_accuracy: 0.6866 - val_loss: 0.6042\n",
      "Epoch 3/10\n",
      "\u001b[1m40/40\u001b[0m \u001b[32m━━━━━━━━━━━━━━━━━━━━\u001b[0m\u001b[37m\u001b[0m \u001b[1m11s\u001b[0m 270ms/step - accuracy: 0.6602 - loss: 0.6138 - val_accuracy: 0.6716 - val_loss: 0.5906\n",
      "Epoch 4/10\n",
      "\u001b[1m40/40\u001b[0m \u001b[32m━━━━━━━━━━━━━━━━━━━━\u001b[0m\u001b[37m\u001b[0m \u001b[1m11s\u001b[0m 275ms/step - accuracy: 0.6866 - loss: 0.6047 - val_accuracy: 0.6617 - val_loss: 0.5822\n",
      "Epoch 5/10\n",
      "\u001b[1m40/40\u001b[0m \u001b[32m━━━━━━━━━━━━━━━━━━━━\u001b[0m\u001b[37m\u001b[0m \u001b[1m11s\u001b[0m 277ms/step - accuracy: 0.6821 - loss: 0.5936 - val_accuracy: 0.7015 - val_loss: 0.5701\n",
      "Epoch 6/10\n",
      "\u001b[1m40/40\u001b[0m \u001b[32m━━━━━━━━━━━━━━━━━━━━\u001b[0m\u001b[37m\u001b[0m \u001b[1m11s\u001b[0m 286ms/step - accuracy: 0.6895 - loss: 0.6204 - val_accuracy: 0.6517 - val_loss: 0.6268\n",
      "Epoch 7/10\n",
      "\u001b[1m40/40\u001b[0m \u001b[32m━━━━━━━━━━━━━━━━━━━━\u001b[0m\u001b[37m\u001b[0m \u001b[1m11s\u001b[0m 279ms/step - accuracy: 0.6959 - loss: 0.5913 - val_accuracy: 0.7164 - val_loss: 0.5595\n",
      "Epoch 8/10\n",
      "\u001b[1m40/40\u001b[0m \u001b[32m━━━━━━━━━━━━━━━━━━━━\u001b[0m\u001b[37m\u001b[0m \u001b[1m11s\u001b[0m 279ms/step - accuracy: 0.7048 - loss: 0.5852 - val_accuracy: 0.6816 - val_loss: 0.5549\n",
      "Epoch 9/10\n",
      "\u001b[1m40/40\u001b[0m \u001b[32m━━━━━━━━━━━━━━━━━━━━\u001b[0m\u001b[37m\u001b[0m \u001b[1m11s\u001b[0m 277ms/step - accuracy: 0.7059 - loss: 0.5865 - val_accuracy: 0.7065 - val_loss: 0.5824\n",
      "Epoch 10/10\n",
      "\u001b[1m40/40\u001b[0m \u001b[32m━━━━━━━━━━━━━━━━━━━━\u001b[0m\u001b[37m\u001b[0m \u001b[1m11s\u001b[0m 279ms/step - accuracy: 0.6870 - loss: 0.5914 - val_accuracy: 0.6965 - val_loss: 0.5530\n"
     ]
    }
   ],
   "source": [
    "history = model.fit(\n",
    "    train_ds,\n",
    "    epochs=10,\n",
    "    validation_data=test_ds\n",
    ")"
   ]
  },
  {
   "cell_type": "code",
   "execution_count": 14,
   "id": "25c723ba-3040-401f-81d2-3ddc5d8c3088",
   "metadata": {
    "execution": {
     "iopub.execute_input": "2024-11-29T20:12:37.695489Z",
     "iopub.status.busy": "2024-11-29T20:12:37.694891Z",
     "iopub.status.idle": "2024-11-29T20:12:37.700198Z",
     "shell.execute_reply": "2024-11-29T20:12:37.699608Z",
     "shell.execute_reply.started": "2024-11-29T20:12:37.695465Z"
    }
   },
   "outputs": [
    {
     "data": {
      "text/plain": [
       "0.582"
      ]
     },
     "execution_count": 14,
     "metadata": {},
     "output_type": "execute_result"
    }
   ],
   "source": [
    "np.mean(history.history['val_loss']).round(3)"
   ]
  },
  {
   "cell_type": "markdown",
   "id": "bd5f8c4e-7535-4e65-8f6f-96ccc78938bf",
   "metadata": {},
   "source": [
    "# Question 6"
   ]
  },
  {
   "cell_type": "code",
   "execution_count": 15,
   "id": "707fe18f-77af-4b9c-9135-c2ec7a77ac11",
   "metadata": {
    "execution": {
     "iopub.execute_input": "2024-11-29T20:12:37.701162Z",
     "iopub.status.busy": "2024-11-29T20:12:37.700830Z",
     "iopub.status.idle": "2024-11-29T20:12:37.706210Z",
     "shell.execute_reply": "2024-11-29T20:12:37.705701Z",
     "shell.execute_reply.started": "2024-11-29T20:12:37.701140Z"
    }
   },
   "outputs": [
    {
     "data": {
      "text/plain": [
       "0.691"
      ]
     },
     "execution_count": 15,
     "metadata": {},
     "output_type": "execute_result"
    }
   ],
   "source": [
    "np.mean(history.history['val_accuracy'][5:]).round(3)"
   ]
  },
  {
   "cell_type": "code",
   "execution_count": null,
   "id": "bde095ff-36f7-49fc-95e8-b43f3643fd4a",
   "metadata": {},
   "outputs": [],
   "source": []
  },
  {
   "cell_type": "code",
   "execution_count": null,
   "id": "6f97bf49-2800-4807-9294-be203ac7776d",
   "metadata": {},
   "outputs": [],
   "source": []
  }
 ],
 "metadata": {
  "kernelspec": {
   "display_name": "saturn (Python 3)",
   "language": "python",
   "name": "python3"
  },
  "language_info": {
   "codemirror_mode": {
    "name": "ipython",
    "version": 3
   },
   "file_extension": ".py",
   "mimetype": "text/x-python",
   "name": "python",
   "nbconvert_exporter": "python",
   "pygments_lexer": "ipython3",
   "version": "3.12.7"
  }
 },
 "nbformat": 4,
 "nbformat_minor": 5
}
